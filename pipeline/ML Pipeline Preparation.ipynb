{
 "cells": [
  {
   "cell_type": "markdown",
   "metadata": {},
   "source": [
    "# ML Pipeline Preparation\n",
    "Follow the instructions below to help you create your ML pipeline.\n",
    "### 1. Import libraries and load data from database.\n",
    "- Import Python libraries\n",
    "- Load dataset from database with [`read_sql_table`](https://pandas.pydata.org/pandas-docs/stable/generated/pandas.read_sql_table.html)\n",
    "- Define feature and target variables X and Y"
   ]
  },
  {
   "cell_type": "code",
   "execution_count": 1,
   "metadata": {},
   "outputs": [
    {
     "name": "stdout",
     "output_type": "stream",
     "text": [
      "[nltk_data] Downloading package punkt to /root/nltk_data...\n",
      "[nltk_data]   Unzipping tokenizers/punkt.zip.\n",
      "[nltk_data] Downloading package wordnet to /root/nltk_data...\n",
      "[nltk_data]   Unzipping corpora/wordnet.zip.\n"
     ]
    }
   ],
   "source": [
    "# import libraries\n",
    "# import libraries\n",
    "import pandas as pd\n",
    "import numpy as np\n",
    "import pickle\n",
    "import sys\n",
    "\n",
    "import re\n",
    "\n",
    "import nltk\n",
    "nltk.download('punkt')\n",
    "nltk.download('wordnet')\n",
    "\n",
    "from nltk.tokenize import word_tokenize\n",
    "from nltk.stem.wordnet import WordNetLemmatizer\n",
    "\n",
    "from sklearn.pipeline import Pipeline\n",
    "from sklearn.feature_extraction.text import CountVectorizer, TfidfTransformer\n",
    "from sklearn.multioutput import MultiOutputClassifier\n",
    "from sklearn.ensemble import AdaBoostClassifier\n",
    "from sklearn.tree import DecisionTreeClassifier\n",
    "from sklearn.model_selection import train_test_split, GridSearchCV\n",
    "from sklearn.metrics import accuracy_score, f1_score, precision_score, recall_score, classification_report, confusion_matrix\n",
    "\n",
    "\n",
    "from sqlalchemy import create_engine"
   ]
  },
  {
   "cell_type": "code",
   "execution_count": 2,
   "metadata": {},
   "outputs": [],
   "source": [
    "# load data from database\n",
    "engine = create_engine('sqlite:///DisasterDatabase.db')\n",
    "df = pd.read_sql_table('DisasterTableNew',engine)\n",
    "X = df.message\n",
    "Y = df.drop(columns=['id', 'message', 'original', 'genre'])"
   ]
  },
  {
   "cell_type": "markdown",
   "metadata": {},
   "source": [
    "### 2. Write a tokenization function to process your text data"
   ]
  },
  {
   "cell_type": "code",
   "execution_count": 3,
   "metadata": {},
   "outputs": [],
   "source": [
    "def tokenize(text):\n",
    "    ''' cleanes tokens from text data by performing the below operations\n",
    "        - Removes punctuation\n",
    "        - Lemmatizes tokens\n",
    "        - Converts to lowercase and removes extra whitespace\n",
    "    Args: \n",
    "        text (str)\n",
    "    Returns:\n",
    "        clean_tokens (list): list of tokens\n",
    "    '''\n",
    "    # remove punctuation\n",
    "    text = re.sub(r\"[^a-zA-Z0-9]\", \" \", text)\n",
    "    \n",
    "    # tokenize\n",
    "    tokens = word_tokenize(text)\n",
    "    \n",
    "    # initalize lemmatizer\n",
    "    lemmatizer = WordNetLemmatizer()\n",
    "    \n",
    "    clean_tokens = []\n",
    "    for token in tokens:\n",
    "        clean_tokens.append(lemmatizer.lemmatize(token).lower().strip())\n",
    "        \n",
    "    return clean_tokens"
   ]
  },
  {
   "cell_type": "markdown",
   "metadata": {},
   "source": [
    "### 3. Build a machine learning pipeline\n",
    "This machine pipeline should take in the `message` column as input and output classification results on the other 36 categories in the dataset. You may find the [MultiOutputClassifier](http://scikit-learn.org/stable/modules/generated/sklearn.multioutput.MultiOutputClassifier.html) helpful for predicting multiple target variables."
   ]
  },
  {
   "cell_type": "code",
   "execution_count": 4,
   "metadata": {},
   "outputs": [],
   "source": [
    "pipeline = pipeline = Pipeline([\n",
    "        ('vect', CountVectorizer(tokenizer=tokenize)),\n",
    "        ('tfidf', TfidfTransformer()),\n",
    "        ('clf', MultiOutputClassifier(DecisionTreeClassifier()))\n",
    "    ])"
   ]
  },
  {
   "cell_type": "markdown",
   "metadata": {},
   "source": [
    "### 4. Train pipeline\n",
    "- Split data into train and test sets\n",
    "- Train pipeline"
   ]
  },
  {
   "cell_type": "code",
   "execution_count": 5,
   "metadata": {},
   "outputs": [
    {
     "data": {
      "text/plain": [
       "Pipeline(memory=None,\n",
       "     steps=[('vect', CountVectorizer(analyzer='word', binary=False, decode_error='strict',\n",
       "        dtype=<class 'numpy.int64'>, encoding='utf-8', input='content',\n",
       "        lowercase=True, max_df=1.0, max_features=None, min_df=1,\n",
       "        ngram_range=(1, 1), preprocessor=None, stop_words=None,\n",
       "        strip...ion_leaf=0.0, presort=False, random_state=None,\n",
       "            splitter='best'),\n",
       "           n_jobs=1))])"
      ]
     },
     "execution_count": 5,
     "metadata": {},
     "output_type": "execute_result"
    }
   ],
   "source": [
    "X_train, X_test, y_train, y_test = train_test_split(X, Y, test_size=0.2, random_state=42)\n",
    "\n",
    "pipeline.fit(X_train,y_train)"
   ]
  },
  {
   "cell_type": "markdown",
   "metadata": {},
   "source": [
    "### 5. Test your model\n",
    "Report the f1 score, precision and recall for each output category of the dataset. You can do this by iterating through the columns and calling sklearn's `classification_report` on each."
   ]
  },
  {
   "cell_type": "code",
   "execution_count": 6,
   "metadata": {},
   "outputs": [
    {
     "name": "stdout",
     "output_type": "stream",
     "text": [
      "Column 0, related\n",
      "             precision    recall  f1-score   support\n",
      "\n",
      "          0       0.48      0.43      0.46      1266\n",
      "          1       0.82      0.84      0.83      3938\n",
      "          2       0.42      0.62      0.51        40\n",
      "\n",
      "avg / total       0.74      0.74      0.74      5244\n",
      "\n",
      "Column 1, request\n",
      "             precision    recall  f1-score   support\n",
      "\n",
      "          0       0.91      0.92      0.91      4349\n",
      "          1       0.57      0.54      0.56       895\n",
      "\n",
      "avg / total       0.85      0.85      0.85      5244\n",
      "\n",
      "Column 2, offer\n",
      "             precision    recall  f1-score   support\n",
      "\n",
      "          0       1.00      1.00      1.00      5218\n",
      "          1       0.00      0.00      0.00        26\n",
      "\n",
      "avg / total       0.99      0.99      0.99      5244\n",
      "\n",
      "Column 3, aid_related\n",
      "             precision    recall  f1-score   support\n",
      "\n",
      "          0       0.74      0.74      0.74      3113\n",
      "          1       0.63      0.63      0.63      2131\n",
      "\n",
      "avg / total       0.70      0.70      0.70      5244\n",
      "\n",
      "Column 4, medical_help\n",
      "             precision    recall  f1-score   support\n",
      "\n",
      "          0       0.94      0.95      0.95      4822\n",
      "          1       0.36      0.34      0.35       422\n",
      "\n",
      "avg / total       0.90      0.90      0.90      5244\n",
      "\n",
      "Column 5, medical_products\n",
      "             precision    recall  f1-score   support\n",
      "\n",
      "          0       0.96      0.97      0.97      4974\n",
      "          1       0.41      0.35      0.38       270\n",
      "\n",
      "avg / total       0.94      0.94      0.94      5244\n",
      "\n",
      "Column 6, search_and_rescue\n",
      "             precision    recall  f1-score   support\n",
      "\n",
      "          0       0.98      0.98      0.98      5117\n",
      "          1       0.22      0.22      0.22       127\n",
      "\n",
      "avg / total       0.96      0.96      0.96      5244\n",
      "\n",
      "Column 7, security\n",
      "             precision    recall  f1-score   support\n",
      "\n",
      "          0       0.98      0.98      0.98      5156\n",
      "          1       0.04      0.03      0.04        88\n",
      "\n",
      "avg / total       0.97      0.97      0.97      5244\n",
      "\n",
      "Column 8, military\n",
      "             precision    recall  f1-score   support\n",
      "\n",
      "          0       0.98      0.98      0.98      5089\n",
      "          1       0.37      0.34      0.35       155\n",
      "\n",
      "avg / total       0.96      0.96      0.96      5244\n",
      "\n",
      "Column 9, child_alone\n",
      "             precision    recall  f1-score   support\n",
      "\n",
      "          0       1.00      1.00      1.00      5244\n",
      "\n",
      "avg / total       1.00      1.00      1.00      5244\n",
      "\n",
      "Column 10, water\n",
      "             precision    recall  f1-score   support\n",
      "\n",
      "          0       0.97      0.98      0.98      4905\n",
      "          1       0.66      0.63      0.64       339\n",
      "\n",
      "avg / total       0.95      0.95      0.95      5244\n",
      "\n",
      "Column 11, food\n",
      "             precision    recall  f1-score   support\n",
      "\n",
      "          0       0.97      0.96      0.96      4649\n",
      "          1       0.72      0.73      0.72       595\n",
      "\n",
      "avg / total       0.94      0.94      0.94      5244\n",
      "\n",
      "Column 12, shelter\n",
      "             precision    recall  f1-score   support\n",
      "\n",
      "          0       0.96      0.97      0.96      4774\n",
      "          1       0.64      0.62      0.63       470\n",
      "\n",
      "avg / total       0.93      0.94      0.93      5244\n",
      "\n",
      "Column 13, clothing\n",
      "             precision    recall  f1-score   support\n",
      "\n",
      "          0       0.99      0.99      0.99      5171\n",
      "          1       0.58      0.56      0.57        73\n",
      "\n",
      "avg / total       0.99      0.99      0.99      5244\n",
      "\n",
      "Column 14, money\n",
      "             precision    recall  f1-score   support\n",
      "\n",
      "          0       0.99      0.98      0.99      5140\n",
      "          1       0.31      0.34      0.32       104\n",
      "\n",
      "avg / total       0.97      0.97      0.97      5244\n",
      "\n",
      "Column 15, missing_people\n",
      "             precision    recall  f1-score   support\n",
      "\n",
      "          0       0.99      0.99      0.99      5184\n",
      "          1       0.39      0.30      0.34        60\n",
      "\n",
      "avg / total       0.99      0.99      0.99      5244\n",
      "\n",
      "Column 16, refugees\n",
      "             precision    recall  f1-score   support\n",
      "\n",
      "          0       0.98      0.98      0.98      5073\n",
      "          1       0.35      0.33      0.34       171\n",
      "\n",
      "avg / total       0.96      0.96      0.96      5244\n",
      "\n",
      "Column 17, death\n",
      "             precision    recall  f1-score   support\n",
      "\n",
      "          0       0.98      0.98      0.98      5007\n",
      "          1       0.56      0.57      0.57       237\n",
      "\n",
      "avg / total       0.96      0.96      0.96      5244\n",
      "\n",
      "Column 18, other_aid\n",
      "             precision    recall  f1-score   support\n",
      "\n",
      "          0       0.89      0.90      0.90      4549\n",
      "          1       0.30      0.27      0.29       695\n",
      "\n",
      "avg / total       0.81      0.82      0.82      5244\n",
      "\n",
      "Column 19, infrastructure_related\n",
      "             precision    recall  f1-score   support\n",
      "\n",
      "          0       0.94      0.95      0.95      4916\n",
      "          1       0.15      0.13      0.14       328\n",
      "\n",
      "avg / total       0.89      0.90      0.89      5244\n",
      "\n",
      "Column 20, transport\n",
      "             precision    recall  f1-score   support\n",
      "\n",
      "          0       0.97      0.97      0.97      5004\n",
      "          1       0.31      0.28      0.29       240\n",
      "\n",
      "avg / total       0.94      0.94      0.94      5244\n",
      "\n",
      "Column 21, buildings\n",
      "             precision    recall  f1-score   support\n",
      "\n",
      "          0       0.97      0.98      0.97      4977\n",
      "          1       0.49      0.39      0.44       267\n",
      "\n",
      "avg / total       0.94      0.95      0.95      5244\n",
      "\n",
      "Column 22, electricity\n",
      "             precision    recall  f1-score   support\n",
      "\n",
      "          0       0.98      0.99      0.99      5122\n",
      "          1       0.35      0.22      0.27       122\n",
      "\n",
      "avg / total       0.97      0.97      0.97      5244\n",
      "\n",
      "Column 23, tools\n",
      "             precision    recall  f1-score   support\n",
      "\n",
      "          0       0.99      1.00      0.99      5212\n",
      "          1       0.04      0.03      0.04        32\n",
      "\n",
      "avg / total       0.99      0.99      0.99      5244\n",
      "\n",
      "Column 24, hospitals\n",
      "             precision    recall  f1-score   support\n",
      "\n",
      "          0       0.99      0.99      0.99      5198\n",
      "          1       0.08      0.09      0.08        46\n",
      "\n",
      "avg / total       0.98      0.98      0.98      5244\n",
      "\n",
      "Column 25, shops\n",
      "             precision    recall  f1-score   support\n",
      "\n",
      "          0       1.00      1.00      1.00      5222\n",
      "          1       0.04      0.05      0.04        22\n",
      "\n",
      "avg / total       0.99      0.99      0.99      5244\n",
      "\n",
      "Column 26, aid_centers\n",
      "             precision    recall  f1-score   support\n",
      "\n",
      "          0       0.99      0.99      0.99      5177\n",
      "          1       0.10      0.07      0.09        67\n",
      "\n",
      "avg / total       0.98      0.98      0.98      5244\n",
      "\n",
      "Column 27, other_infrastructure\n",
      "             precision    recall  f1-score   support\n",
      "\n",
      "          0       0.96      0.96      0.96      5021\n",
      "          1       0.15      0.14      0.15       223\n",
      "\n",
      "avg / total       0.93      0.93      0.93      5244\n",
      "\n",
      "Column 28, weather_related\n",
      "             precision    recall  f1-score   support\n",
      "\n",
      "          0       0.90      0.90      0.90      3806\n",
      "          1       0.74      0.72      0.73      1438\n",
      "\n",
      "avg / total       0.85      0.85      0.85      5244\n",
      "\n",
      "Column 29, floods\n",
      "             precision    recall  f1-score   support\n",
      "\n",
      "          0       0.96      0.97      0.97      4833\n",
      "          1       0.62      0.58      0.60       411\n",
      "\n",
      "avg / total       0.94      0.94      0.94      5244\n",
      "\n",
      "Column 30, storm\n",
      "             precision    recall  f1-score   support\n",
      "\n",
      "          0       0.96      0.96      0.96      4758\n",
      "          1       0.64      0.65      0.65       486\n",
      "\n",
      "avg / total       0.93      0.93      0.93      5244\n",
      "\n",
      "Column 31, fire\n",
      "             precision    recall  f1-score   support\n",
      "\n",
      "          0       0.99      0.99      0.99      5191\n",
      "          1       0.14      0.15      0.15        53\n",
      "\n",
      "avg / total       0.98      0.98      0.98      5244\n",
      "\n",
      "Column 32, earthquake\n",
      "             precision    recall  f1-score   support\n",
      "\n",
      "          0       0.98      0.98      0.98      4766\n",
      "          1       0.76      0.77      0.77       478\n",
      "\n",
      "avg / total       0.96      0.96      0.96      5244\n",
      "\n",
      "Column 33, cold\n",
      "             precision    recall  f1-score   support\n",
      "\n",
      "          0       0.99      0.99      0.99      5127\n",
      "          1       0.52      0.45      0.49       117\n",
      "\n",
      "avg / total       0.98      0.98      0.98      5244\n",
      "\n",
      "Column 34, other_weather\n",
      "             precision    recall  f1-score   support\n",
      "\n",
      "          0       0.96      0.96      0.96      4968\n",
      "          1       0.24      0.20      0.22       276\n",
      "\n",
      "avg / total       0.92      0.92      0.92      5244\n",
      "\n",
      "Column 35, direct_report\n",
      "             precision    recall  f1-score   support\n",
      "\n",
      "          0       0.88      0.89      0.89      4223\n",
      "          1       0.53      0.50      0.52      1021\n",
      "\n",
      "avg / total       0.81      0.82      0.81      5244\n",
      "\n"
     ]
    }
   ],
   "source": [
    "y_pred=pipeline.predict(X_test)\n",
    "\n",
    "category_names=Y.columns\n",
    "\n",
    "for i in range(y_test.shape[1]):\n",
    "    print('Column {}, {}'.format(i, category_names[i]))\n",
    "    print(classification_report(y_test.iloc[:,i], y_pred[:,i]))"
   ]
  },
  {
   "cell_type": "markdown",
   "metadata": {},
   "source": [
    "### 6. Improve your model\n",
    "Use grid search to find better parameters. "
   ]
  },
  {
   "cell_type": "code",
   "execution_count": 7,
   "metadata": {},
   "outputs": [
    {
     "data": {
      "text/plain": [
       "GridSearchCV(cv=3, error_score='raise',\n",
       "       estimator=Pipeline(memory=None,\n",
       "     steps=[('vect', CountVectorizer(analyzer='word', binary=False, decode_error='strict',\n",
       "        dtype=<class 'numpy.int64'>, encoding='utf-8', input='content',\n",
       "        lowercase=True, max_df=1.0, max_features=None, min_df=1,\n",
       "        ngram_range=(1, 1), preprocessor=None, stop_words=None,\n",
       "        strip...ion_leaf=0.0, presort=False, random_state=None,\n",
       "            splitter='best'),\n",
       "           n_jobs=1))]),\n",
       "       fit_params=None, iid=True, n_jobs=1,\n",
       "       param_grid={'vect__stop_words': ['english'], 'vect__ngram_range': [(1, 2)], 'vect__max_features': [40000], 'clf__estimator__random_state': [1, 33], 'clf__estimator__max_depth': [5, 10], 'clf__estimator__min_samples_split': [4, 7]},\n",
       "       pre_dispatch='2*n_jobs', refit=True, return_train_score='warn',\n",
       "       scoring=None, verbose=0)"
      ]
     },
     "execution_count": 7,
     "metadata": {},
     "output_type": "execute_result"
    }
   ],
   "source": [
    "parameters = {\n",
    "        'vect__stop_words':['english'],\n",
    "        'vect__ngram_range':[(1,2)],\n",
    "        'vect__max_features':[40000],\n",
    "        'clf__estimator__random_state':[1,33],\n",
    "        'clf__estimator__max_depth':[5, 10],\n",
    "        'clf__estimator__min_samples_split':[4, 7]\n",
    "    }\n",
    "    \n",
    "cv = GridSearchCV(pipeline, parameters, cv=3)  \n",
    "\n",
    "cv.fit(X_train,y_train)"
   ]
  },
  {
   "cell_type": "code",
   "execution_count": 8,
   "metadata": {},
   "outputs": [
    {
     "data": {
      "text/plain": [
       "{'clf__estimator__max_depth': 10,\n",
       " 'clf__estimator__min_samples_split': 4,\n",
       " 'clf__estimator__random_state': 33,\n",
       " 'vect__max_features': 40000,\n",
       " 'vect__ngram_range': (1, 2),\n",
       " 'vect__stop_words': 'english'}"
      ]
     },
     "execution_count": 8,
     "metadata": {},
     "output_type": "execute_result"
    }
   ],
   "source": [
    "cv.best_params_"
   ]
  },
  {
   "cell_type": "code",
   "execution_count": 9,
   "metadata": {},
   "outputs": [],
   "source": [
    "prediction= cv.predict(X_test)"
   ]
  },
  {
   "cell_type": "markdown",
   "metadata": {},
   "source": [
    "### 7. Test your model\n",
    "Show the accuracy, precision, and recall of the tuned model.  \n",
    "\n",
    "Since this project focuses on code quality, process, and  pipelines, there is no minimum performance metric needed to pass. However, make sure to fine tune your models for accuracy, precision and recall to make your project stand out - especially for your portfolio!"
   ]
  },
  {
   "cell_type": "code",
   "execution_count": 17,
   "metadata": {},
   "outputs": [
    {
     "name": "stdout",
     "output_type": "stream",
     "text": [
      "Accuracy: 0.945705144504\n",
      "F1 score: 0.942441596754\n",
      "Recall: 0.945705144504\n",
      "Precision: 0.941289341745\n",
      "\n",
      " clasification report on the folds:\n",
      "              precision    recall  f1-score   support\n",
      "\n",
      "          0       0.96      0.98      0.97    172321\n",
      "          1       0.74      0.57      0.65     16423\n",
      "          2       0.25      0.03      0.05        40\n",
      "\n",
      "avg / total       0.94      0.95      0.94    188784\n",
      "\n",
      "\n",
      " confussion matrix:\n",
      " [[169093   3228      0]\n",
      " [  6980   9440      3]\n",
      " [     1     38      1]]\n"
     ]
    }
   ],
   "source": [
    "print('Accuracy:', accuracy_score(y_test.values.flatten(), prediction.flatten()))\n",
    "print('F1 score:', f1_score(y_test.values.flatten(), prediction.flatten(),average='weighted'))\n",
    "print('Recall:', recall_score(y_test.values.flatten(), prediction.flatten(),average='weighted'))\n",
    "print('Precision:', precision_score(y_test.values.flatten(), prediction.flatten(),average='weighted'))\n",
    "print('\\n clasification report on the folds:\\n', classification_report(y_test.values.flatten(),prediction.flatten()))\n",
    "print('\\n confussion matrix:\\n',confusion_matrix(y_test.values.flatten(), prediction.flatten()))"
   ]
  },
  {
   "cell_type": "markdown",
   "metadata": {},
   "source": [
    "### 8. Try improving your model further. Here are a few ideas:\n",
    "* try other machine learning algorithms\n",
    "* add other features besides the TF-IDF"
   ]
  },
  {
   "cell_type": "code",
   "execution_count": 11,
   "metadata": {},
   "outputs": [
    {
     "data": {
      "text/plain": [
       "GridSearchCV(cv=3, error_score='raise',\n",
       "       estimator=Pipeline(memory=None,\n",
       "     steps=[('vect', CountVectorizer(analyzer='word', binary=False, decode_error='strict',\n",
       "        dtype=<class 'numpy.int64'>, encoding='utf-8', input='content',\n",
       "        lowercase=True, max_df=1.0, max_features=None, min_df=1,\n",
       "        ngram_range=(1, 1), preprocessor=None, stop_words=None,\n",
       "        strip...mator=None,\n",
       "          learning_rate=1.0, n_estimators=50, random_state=None),\n",
       "           n_jobs=1))]),\n",
       "       fit_params=None, iid=True, n_jobs=1,\n",
       "       param_grid={'vect__stop_words': ['english'], 'vect__ngram_range': [(1, 2)], 'vect__max_features': [40000], 'clf__estimator__learning_rate': [0.75, 1.0], 'clf__estimator__n_estimators': [50, 75]},\n",
       "       pre_dispatch='2*n_jobs', refit=True, return_train_score='warn',\n",
       "       scoring=None, verbose=0)"
      ]
     },
     "execution_count": 11,
     "metadata": {},
     "output_type": "execute_result"
    }
   ],
   "source": [
    "pipeline_alt = Pipeline([\n",
    "        ('vect', CountVectorizer(tokenizer=tokenize)),\n",
    "        ('tfidf', TfidfTransformer()),\n",
    "        ('clf', MultiOutputClassifier(AdaBoostClassifier()))\n",
    "    ])\n",
    "\n",
    "\n",
    "parameters_alt  = {\n",
    "    'vect__stop_words':['english'],\n",
    "    'vect__ngram_range':[(1,2)],\n",
    "    'vect__max_features':[40000],\n",
    "    'clf__estimator__learning_rate':[0.75, 1.0],\n",
    "    'clf__estimator__n_estimators':[50, 75]\n",
    "}\n",
    "\n",
    "cv_alt  = GridSearchCV(pipeline_alt , parameters_alt, cv=3) \n",
    "\n",
    "cv_alt.fit(X_train,y_train) "
   ]
  },
  {
   "cell_type": "code",
   "execution_count": 12,
   "metadata": {},
   "outputs": [],
   "source": [
    "prediction_alt= cv_alt.predict(X_test)"
   ]
  },
  {
   "cell_type": "code",
   "execution_count": 16,
   "metadata": {},
   "outputs": [
    {
     "name": "stdout",
     "output_type": "stream",
     "text": [
      "Accuracy: 0.94721480634\n",
      "F1 score: 0.943687481184\n",
      "Recall: 0.94721480634\n",
      "Precision: 0.94278985095\n",
      "\n",
      " clasification report on the folds:\n",
      "              precision    recall  f1-score   support\n",
      "\n",
      "          0       0.96      0.98      0.97    172321\n",
      "          1       0.76      0.57      0.65     16423\n",
      "          2       0.20      0.05      0.08        40\n",
      "\n",
      "avg / total       0.94      0.95      0.94    188784\n",
      "\n",
      "\n",
      " confussion matrix:\n",
      " [[169427   2894      0]\n",
      " [  7025   9390      8]\n",
      " [     0     38      2]]\n"
     ]
    }
   ],
   "source": [
    "print('Accuracy:', accuracy_score(y_test.values.flatten(), prediction_alt.flatten()))\n",
    "print('F1 score:', f1_score(y_test.values.flatten(), prediction_alt.flatten(),average='weighted'))\n",
    "print('Recall:', recall_score(y_test.values.flatten(), prediction_alt.flatten(),average='weighted'))\n",
    "print('Precision:', precision_score(y_test.values.flatten(), prediction_alt.flatten(),average='weighted'))\n",
    "print('\\n clasification report on the folds:\\n', classification_report(y_test.values.flatten(),prediction_alt.flatten()))\n",
    "print('\\n confussion matrix:\\n',confusion_matrix(y_test.values.flatten(), prediction_alt.flatten()))"
   ]
  },
  {
   "cell_type": "markdown",
   "metadata": {},
   "source": [
    "### 9. Export your model as a pickle file"
   ]
  },
  {
   "cell_type": "code",
   "execution_count": 14,
   "metadata": {},
   "outputs": [
    {
     "name": "stdout",
     "output_type": "stream",
     "text": [
      "model saved at model.pkl\n"
     ]
    }
   ],
   "source": [
    "model_filepath = 'model.pkl'\n",
    "\n",
    "try:\n",
    "    f = open(model_filepath, 'wb')\n",
    "    pickle.dump(cv_alt, f)\n",
    "    print('model saved at {}'.format(model_filepath))\n",
    "except IOError:\n",
    "    print(IOError.message)"
   ]
  },
  {
   "cell_type": "markdown",
   "metadata": {},
   "source": [
    "### 10. Use this notebook to complete `train.py`\n",
    "Use the template file attached in the Resources folder to write a script that runs the steps above to create a database and export a model based on a new dataset specified by the user."
   ]
  },
  {
   "cell_type": "code",
   "execution_count": null,
   "metadata": {},
   "outputs": [],
   "source": []
  }
 ],
 "metadata": {
  "kernelspec": {
   "display_name": "Python 3",
   "language": "python",
   "name": "python3"
  },
  "language_info": {
   "codemirror_mode": {
    "name": "ipython",
    "version": 3
   },
   "file_extension": ".py",
   "mimetype": "text/x-python",
   "name": "python",
   "nbconvert_exporter": "python",
   "pygments_lexer": "ipython3",
   "version": "3.6.3"
  }
 },
 "nbformat": 4,
 "nbformat_minor": 2
}
